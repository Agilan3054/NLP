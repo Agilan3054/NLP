{
 "cells": [
  {
   "cell_type": "code",
   "execution_count": 25,
   "id": "00f98b12",
   "metadata": {},
   "outputs": [],
   "source": [
    "import pandas as pd\n",
    "from gensim.models import Word2Vec\n",
    "from sklearn.linear_model import LogisticRegression\n",
    "import nltk\n",
    "import re\n",
    "from tqdm import tqdm\n",
    "import numpy as np"
   ]
  },
  {
   "cell_type": "code",
   "execution_count": 26,
   "id": "33743ce8",
   "metadata": {},
   "outputs": [],
   "source": [
    "def pre_processing(tweet: str):\n",
    "    \n",
    "    # Remove Leading Blank Spaces\n",
    "    tweet = tweet.strip()\n",
    "    \n",
    "    # Lower Case\n",
    "    tweet = tweet.lower()\n",
    "    \n",
    "    # Remove URLS \n",
    "    url_pattern = re.compile(r\"https?://\\S+|www\\.\\S+\")\n",
    "    tweet = re.sub(url_pattern, \"\", tweet)\n",
    "    \n",
    "    # Remove UserName\n",
    "    username_pattern = re.compile(r\"@\\w+\")\n",
    "    tweet = re.sub(username_pattern, \"\", tweet)\n",
    "    \n",
    "    # Remove Hashtags\n",
    "    hashtag_pattern = re.compile(r\"#\\w+\")\n",
    "    tweet = re.sub(hashtag_pattern, \"\", tweet)\n",
    "    \n",
    "    # Character normalization // todaaaaay -> today\n",
    "    tweet = re.sub(r\"([a-zA-Z])\\1{2,}\", r'\\1', tweet)\n",
    "    \n",
    "    # Remove Special Characters\n",
    "    tweet = re.sub(r'[^a-zA-Z\\s]', \"\", tweet)\n",
    "    \n",
    "    # Word Tokenizer\n",
    "    tweet = nltk.word_tokenize(tweet)\n",
    "    \n",
    "    # Remove Stop Words \n",
    "    stop_words = set([re.sub(r'[^a-zA-Z\\s]', \"\", word) for word in nltk.corpus.stopwords.words(\"english\")])\n",
    "    tweet = [word for word in tweet if word not in stop_words]\n",
    "    \n",
    "    # lemmatization\n",
    "    def get_pos(word):\n",
    "        tag = nltk.pos_tag([word])[0][1][0].upper()\n",
    "        tag_dict = {\"N\": \"n\", \"V\": \"v\", \"R\": \"r\", \"J\": \"a\"}\n",
    "        return tag_dict.get(tag, \"n\")\n",
    "    \n",
    "    lemma = nltk.stem.WordNetLemmatizer()\n",
    "    tweet = [lemma.lemmatize(word, pos=get_pos(word)) for word in tweet]\n",
    "    \n",
    "    return tweet\n"
   ]
  },
  {
   "cell_type": "code",
   "execution_count": 27,
   "id": "c4691b9b",
   "metadata": {},
   "outputs": [],
   "source": [
    "df = pd.read_csv(\"labeled_data.csv\")"
   ]
  },
  {
   "cell_type": "code",
   "execution_count": 28,
   "id": "cb0f6680",
   "metadata": {},
   "outputs": [
    {
     "data": {
      "text/html": [
       "<div>\n",
       "<style scoped>\n",
       "    .dataframe tbody tr th:only-of-type {\n",
       "        vertical-align: middle;\n",
       "    }\n",
       "\n",
       "    .dataframe tbody tr th {\n",
       "        vertical-align: top;\n",
       "    }\n",
       "\n",
       "    .dataframe thead th {\n",
       "        text-align: right;\n",
       "    }\n",
       "</style>\n",
       "<table border=\"1\" class=\"dataframe\">\n",
       "  <thead>\n",
       "    <tr style=\"text-align: right;\">\n",
       "      <th></th>\n",
       "      <th>Unnamed: 0</th>\n",
       "      <th>count</th>\n",
       "      <th>hate_speech</th>\n",
       "      <th>offensive_language</th>\n",
       "      <th>neither</th>\n",
       "      <th>class</th>\n",
       "      <th>tweet</th>\n",
       "    </tr>\n",
       "  </thead>\n",
       "  <tbody>\n",
       "    <tr>\n",
       "      <th>0</th>\n",
       "      <td>0</td>\n",
       "      <td>3</td>\n",
       "      <td>0</td>\n",
       "      <td>0</td>\n",
       "      <td>3</td>\n",
       "      <td>2</td>\n",
       "      <td>!!! RT @mayasolovely: As a woman you shouldn't...</td>\n",
       "    </tr>\n",
       "    <tr>\n",
       "      <th>1</th>\n",
       "      <td>1</td>\n",
       "      <td>3</td>\n",
       "      <td>0</td>\n",
       "      <td>3</td>\n",
       "      <td>0</td>\n",
       "      <td>1</td>\n",
       "      <td>!!!!! RT @mleew17: boy dats cold...tyga dwn ba...</td>\n",
       "    </tr>\n",
       "    <tr>\n",
       "      <th>2</th>\n",
       "      <td>2</td>\n",
       "      <td>3</td>\n",
       "      <td>0</td>\n",
       "      <td>3</td>\n",
       "      <td>0</td>\n",
       "      <td>1</td>\n",
       "      <td>!!!!!!! RT @UrKindOfBrand Dawg!!!! RT @80sbaby...</td>\n",
       "    </tr>\n",
       "    <tr>\n",
       "      <th>3</th>\n",
       "      <td>3</td>\n",
       "      <td>3</td>\n",
       "      <td>0</td>\n",
       "      <td>2</td>\n",
       "      <td>1</td>\n",
       "      <td>1</td>\n",
       "      <td>!!!!!!!!! RT @C_G_Anderson: @viva_based she lo...</td>\n",
       "    </tr>\n",
       "    <tr>\n",
       "      <th>4</th>\n",
       "      <td>4</td>\n",
       "      <td>6</td>\n",
       "      <td>0</td>\n",
       "      <td>6</td>\n",
       "      <td>0</td>\n",
       "      <td>1</td>\n",
       "      <td>!!!!!!!!!!!!! RT @ShenikaRoberts: The shit you...</td>\n",
       "    </tr>\n",
       "    <tr>\n",
       "      <th>...</th>\n",
       "      <td>...</td>\n",
       "      <td>...</td>\n",
       "      <td>...</td>\n",
       "      <td>...</td>\n",
       "      <td>...</td>\n",
       "      <td>...</td>\n",
       "      <td>...</td>\n",
       "    </tr>\n",
       "    <tr>\n",
       "      <th>24778</th>\n",
       "      <td>25291</td>\n",
       "      <td>3</td>\n",
       "      <td>0</td>\n",
       "      <td>2</td>\n",
       "      <td>1</td>\n",
       "      <td>1</td>\n",
       "      <td>you's a muthaf***in lie &amp;#8220;@LifeAsKing: @2...</td>\n",
       "    </tr>\n",
       "    <tr>\n",
       "      <th>24779</th>\n",
       "      <td>25292</td>\n",
       "      <td>3</td>\n",
       "      <td>0</td>\n",
       "      <td>1</td>\n",
       "      <td>2</td>\n",
       "      <td>2</td>\n",
       "      <td>you've gone and broke the wrong heart baby, an...</td>\n",
       "    </tr>\n",
       "    <tr>\n",
       "      <th>24780</th>\n",
       "      <td>25294</td>\n",
       "      <td>3</td>\n",
       "      <td>0</td>\n",
       "      <td>3</td>\n",
       "      <td>0</td>\n",
       "      <td>1</td>\n",
       "      <td>young buck wanna eat!!.. dat nigguh like I ain...</td>\n",
       "    </tr>\n",
       "    <tr>\n",
       "      <th>24781</th>\n",
       "      <td>25295</td>\n",
       "      <td>6</td>\n",
       "      <td>0</td>\n",
       "      <td>6</td>\n",
       "      <td>0</td>\n",
       "      <td>1</td>\n",
       "      <td>youu got wild bitches tellin you lies</td>\n",
       "    </tr>\n",
       "    <tr>\n",
       "      <th>24782</th>\n",
       "      <td>25296</td>\n",
       "      <td>3</td>\n",
       "      <td>0</td>\n",
       "      <td>0</td>\n",
       "      <td>3</td>\n",
       "      <td>2</td>\n",
       "      <td>~~Ruffled | Ntac Eileen Dahlia - Beautiful col...</td>\n",
       "    </tr>\n",
       "  </tbody>\n",
       "</table>\n",
       "<p>24783 rows × 7 columns</p>\n",
       "</div>"
      ],
      "text/plain": [
       "       Unnamed: 0  count  hate_speech  offensive_language  neither  class  \\\n",
       "0               0      3            0                   0        3      2   \n",
       "1               1      3            0                   3        0      1   \n",
       "2               2      3            0                   3        0      1   \n",
       "3               3      3            0                   2        1      1   \n",
       "4               4      6            0                   6        0      1   \n",
       "...           ...    ...          ...                 ...      ...    ...   \n",
       "24778       25291      3            0                   2        1      1   \n",
       "24779       25292      3            0                   1        2      2   \n",
       "24780       25294      3            0                   3        0      1   \n",
       "24781       25295      6            0                   6        0      1   \n",
       "24782       25296      3            0                   0        3      2   \n",
       "\n",
       "                                                   tweet  \n",
       "0      !!! RT @mayasolovely: As a woman you shouldn't...  \n",
       "1      !!!!! RT @mleew17: boy dats cold...tyga dwn ba...  \n",
       "2      !!!!!!! RT @UrKindOfBrand Dawg!!!! RT @80sbaby...  \n",
       "3      !!!!!!!!! RT @C_G_Anderson: @viva_based she lo...  \n",
       "4      !!!!!!!!!!!!! RT @ShenikaRoberts: The shit you...  \n",
       "...                                                  ...  \n",
       "24778  you's a muthaf***in lie &#8220;@LifeAsKing: @2...  \n",
       "24779  you've gone and broke the wrong heart baby, an...  \n",
       "24780  young buck wanna eat!!.. dat nigguh like I ain...  \n",
       "24781              youu got wild bitches tellin you lies  \n",
       "24782  ~~Ruffled | Ntac Eileen Dahlia - Beautiful col...  \n",
       "\n",
       "[24783 rows x 7 columns]"
      ]
     },
     "execution_count": 28,
     "metadata": {},
     "output_type": "execute_result"
    }
   ],
   "source": [
    "df"
   ]
  },
  {
   "cell_type": "code",
   "execution_count": 29,
   "id": "e52f1df4",
   "metadata": {},
   "outputs": [],
   "source": [
    "df = df.sample(frac=0.01, random_state=42)  # Sampling 10% of the data, you can adjust the fraction as needed\n",
    "\n",
    "# Reset index of the sampled DataFrame\n",
    "df.reset_index(drop=True, inplace=True)"
   ]
  },
  {
   "cell_type": "code",
   "execution_count": 30,
   "id": "0980b6b0",
   "metadata": {},
   "outputs": [
    {
     "data": {
      "text/html": [
       "<div>\n",
       "<style scoped>\n",
       "    .dataframe tbody tr th:only-of-type {\n",
       "        vertical-align: middle;\n",
       "    }\n",
       "\n",
       "    .dataframe tbody tr th {\n",
       "        vertical-align: top;\n",
       "    }\n",
       "\n",
       "    .dataframe thead th {\n",
       "        text-align: right;\n",
       "    }\n",
       "</style>\n",
       "<table border=\"1\" class=\"dataframe\">\n",
       "  <thead>\n",
       "    <tr style=\"text-align: right;\">\n",
       "      <th></th>\n",
       "      <th>Unnamed: 0</th>\n",
       "      <th>count</th>\n",
       "      <th>hate_speech</th>\n",
       "      <th>offensive_language</th>\n",
       "      <th>neither</th>\n",
       "      <th>class</th>\n",
       "      <th>tweet</th>\n",
       "    </tr>\n",
       "  </thead>\n",
       "  <tbody>\n",
       "    <tr>\n",
       "      <th>0</th>\n",
       "      <td>2326</td>\n",
       "      <td>3</td>\n",
       "      <td>0</td>\n",
       "      <td>3</td>\n",
       "      <td>0</td>\n",
       "      <td>1</td>\n",
       "      <td>934 8616\\ni got a missed call from yo bitch</td>\n",
       "    </tr>\n",
       "    <tr>\n",
       "      <th>1</th>\n",
       "      <td>16283</td>\n",
       "      <td>3</td>\n",
       "      <td>0</td>\n",
       "      <td>3</td>\n",
       "      <td>0</td>\n",
       "      <td>1</td>\n",
       "      <td>RT @KINGTUNCHI_: Fucking with a bad bitch you ...</td>\n",
       "    </tr>\n",
       "    <tr>\n",
       "      <th>2</th>\n",
       "      <td>19362</td>\n",
       "      <td>3</td>\n",
       "      <td>0</td>\n",
       "      <td>1</td>\n",
       "      <td>2</td>\n",
       "      <td>2</td>\n",
       "      <td>RT @eanahS__: @1inkkofrosess lol my credit ain...</td>\n",
       "    </tr>\n",
       "    <tr>\n",
       "      <th>3</th>\n",
       "      <td>16780</td>\n",
       "      <td>3</td>\n",
       "      <td>0</td>\n",
       "      <td>3</td>\n",
       "      <td>0</td>\n",
       "      <td>1</td>\n",
       "      <td>RT @Maxin_Betha Wipe the cum out of them faggo...</td>\n",
       "    </tr>\n",
       "    <tr>\n",
       "      <th>4</th>\n",
       "      <td>13654</td>\n",
       "      <td>3</td>\n",
       "      <td>1</td>\n",
       "      <td>2</td>\n",
       "      <td>0</td>\n",
       "      <td>1</td>\n",
       "      <td>Niggas cheat on they bitch and don't expect no...</td>\n",
       "    </tr>\n",
       "    <tr>\n",
       "      <th>...</th>\n",
       "      <td>...</td>\n",
       "      <td>...</td>\n",
       "      <td>...</td>\n",
       "      <td>...</td>\n",
       "      <td>...</td>\n",
       "      <td>...</td>\n",
       "      <td>...</td>\n",
       "    </tr>\n",
       "    <tr>\n",
       "      <th>243</th>\n",
       "      <td>3763</td>\n",
       "      <td>3</td>\n",
       "      <td>0</td>\n",
       "      <td>3</td>\n",
       "      <td>0</td>\n",
       "      <td>1</td>\n",
       "      <td>@JimNorton Hey Jim you'll love this http://www...</td>\n",
       "    </tr>\n",
       "    <tr>\n",
       "      <th>244</th>\n",
       "      <td>7111</td>\n",
       "      <td>3</td>\n",
       "      <td>0</td>\n",
       "      <td>3</td>\n",
       "      <td>0</td>\n",
       "      <td>1</td>\n",
       "      <td>@reneeXOmarie yeah she didnt wana bring that p...</td>\n",
       "    </tr>\n",
       "    <tr>\n",
       "      <th>245</th>\n",
       "      <td>17714</td>\n",
       "      <td>3</td>\n",
       "      <td>0</td>\n",
       "      <td>0</td>\n",
       "      <td>3</td>\n",
       "      <td>2</td>\n",
       "      <td>RT @SimplyPerfectt_: Girls, don't let a guy tr...</td>\n",
       "    </tr>\n",
       "    <tr>\n",
       "      <th>246</th>\n",
       "      <td>11408</td>\n",
       "      <td>3</td>\n",
       "      <td>0</td>\n",
       "      <td>3</td>\n",
       "      <td>0</td>\n",
       "      <td>1</td>\n",
       "      <td>I wonder where all these bitches I got at ?</td>\n",
       "    </tr>\n",
       "    <tr>\n",
       "      <th>247</th>\n",
       "      <td>18908</td>\n",
       "      <td>3</td>\n",
       "      <td>3</td>\n",
       "      <td>0</td>\n",
       "      <td>0</td>\n",
       "      <td>0</td>\n",
       "      <td>RT @_tiffnasty: Why do y'all niggas entertain ...</td>\n",
       "    </tr>\n",
       "  </tbody>\n",
       "</table>\n",
       "<p>248 rows × 7 columns</p>\n",
       "</div>"
      ],
      "text/plain": [
       "     Unnamed: 0  count  hate_speech  offensive_language  neither  class  \\\n",
       "0          2326      3            0                   3        0      1   \n",
       "1         16283      3            0                   3        0      1   \n",
       "2         19362      3            0                   1        2      2   \n",
       "3         16780      3            0                   3        0      1   \n",
       "4         13654      3            1                   2        0      1   \n",
       "..          ...    ...          ...                 ...      ...    ...   \n",
       "243        3763      3            0                   3        0      1   \n",
       "244        7111      3            0                   3        0      1   \n",
       "245       17714      3            0                   0        3      2   \n",
       "246       11408      3            0                   3        0      1   \n",
       "247       18908      3            3                   0        0      0   \n",
       "\n",
       "                                                 tweet  \n",
       "0          934 8616\\ni got a missed call from yo bitch  \n",
       "1    RT @KINGTUNCHI_: Fucking with a bad bitch you ...  \n",
       "2    RT @eanahS__: @1inkkofrosess lol my credit ain...  \n",
       "3    RT @Maxin_Betha Wipe the cum out of them faggo...  \n",
       "4    Niggas cheat on they bitch and don't expect no...  \n",
       "..                                                 ...  \n",
       "243  @JimNorton Hey Jim you'll love this http://www...  \n",
       "244  @reneeXOmarie yeah she didnt wana bring that p...  \n",
       "245  RT @SimplyPerfectt_: Girls, don't let a guy tr...  \n",
       "246        I wonder where all these bitches I got at ?  \n",
       "247  RT @_tiffnasty: Why do y'all niggas entertain ...  \n",
       "\n",
       "[248 rows x 7 columns]"
      ]
     },
     "execution_count": 30,
     "metadata": {},
     "output_type": "execute_result"
    }
   ],
   "source": [
    "df"
   ]
  },
  {
   "cell_type": "code",
   "execution_count": 31,
   "id": "5470e3c3",
   "metadata": {
    "scrolled": true
   },
   "outputs": [],
   "source": [
    "df['processed_text'] = df['tweet'].apply(pre_processing)"
   ]
  },
  {
   "cell_type": "code",
   "execution_count": 32,
   "id": "9b39b225",
   "metadata": {},
   "outputs": [
    {
     "data": {
      "text/plain": [
       "0                           [get, miss, call, yo, bitch]\n",
       "1      [rt, fuck, bad, bitch, go, need, money, lil, h...\n",
       "2      [rt, lol, credit, aint, near, good, know, righ...\n",
       "3      [rt, wipe, cum, faggot, rt, contact, lens, wil...\n",
       "4      [nigga, cheat, bitch, expect, pay, back, whats...\n",
       "                             ...                        \n",
       "243                                     [hey, jim, love]\n",
       "244    [yeah, wana, bring, pussy, u, tell, u, could, ...\n",
       "245    [rt, girl, let, guy, treat, like, yellow, star...\n",
       "246                                 [wonder, bitch, get]\n",
       "247    [rt, yall, nigga, entertain, nicole, bitch, se...\n",
       "Name: processed_text, Length: 248, dtype: object"
      ]
     },
     "execution_count": 32,
     "metadata": {},
     "output_type": "execute_result"
    }
   ],
   "source": [
    "df['processed_text']"
   ]
  },
  {
   "cell_type": "code",
   "execution_count": 33,
   "id": "055ce22e",
   "metadata": {},
   "outputs": [
    {
     "name": "stdout",
     "output_type": "stream",
     "text": [
      "Vocab Size : 762\n"
     ]
    }
   ],
   "source": [
    "from sklearn.model_selection import train_test_split\n",
    "x_train, x_test, y_train, y_test = train_test_split(df[\"processed_text\"].values, df[\"class\"].values, train_size=0.8)\n",
    "\n",
    "# Building the vocabulary\n",
    "vocab = set()\n",
    "for text in x_train:\n",
    "    for word in text:\n",
    "        vocab.add(word)\n",
    "print(\"Vocab Size :\", len(vocab))"
   ]
  },
  {
   "cell_type": "code",
   "execution_count": 34,
   "id": "00db29ec",
   "metadata": {},
   "outputs": [
    {
     "data": {
      "text/plain": [
       "(61809, 749500)"
      ]
     },
     "execution_count": 34,
     "metadata": {},
     "output_type": "execute_result"
    }
   ],
   "source": [
    "from gensim.models import Word2Vec\n",
    "\n",
    "g_model = Word2Vec(vector_size=200, window=5, workers=5)\n",
    "g_model.build_vocab(x_train)\n",
    "g_model.train(x_train, total_examples=g_model.corpus_count, epochs=500)"
   ]
  },
  {
   "cell_type": "code",
   "execution_count": 35,
   "id": "5f26f421",
   "metadata": {},
   "outputs": [],
   "source": [
    "def in_vocab(word_l):\n",
    "    for word in word_l:\n",
    "        if word not in g_model.wv:\n",
    "            return False\n",
    "    else:\n",
    "        return True\n",
    "\n",
    "train_vec = [g_model.wv[x].sum(axis = 0) if len(x) and in_vocab(x) else np.zeros((200)) for x in x_train]\n",
    "test_vec  = [g_model.wv[x].sum(axis = 0) if len(x) and in_vocab(x) else np.zeros((200)) for x in x_test]"
   ]
  },
  {
   "cell_type": "code",
   "execution_count": 36,
   "id": "8e3e12a6",
   "metadata": {},
   "outputs": [],
   "source": [
    "from sklearn.metrics import classification_report, accuracy_score\n"
   ]
  },
  {
   "cell_type": "code",
   "execution_count": 37,
   "id": "3c67b2a2",
   "metadata": {},
   "outputs": [
    {
     "name": "stdout",
     "output_type": "stream",
     "text": [
      "Accuracy Score : 0.7\n",
      "\n",
      "              precision    recall  f1-score   support\n",
      "\n",
      "           0       0.00      0.00      0.00         5\n",
      "           1       0.70      1.00      0.82        35\n",
      "           2       0.00      0.00      0.00        10\n",
      "\n",
      "    accuracy                           0.70        50\n",
      "   macro avg       0.23      0.33      0.27        50\n",
      "weighted avg       0.49      0.70      0.58        50\n",
      "\n"
     ]
    },
    {
     "name": "stderr",
     "output_type": "stream",
     "text": [
      "c:\\users\\adith\\appdata\\local\\programs\\python\\python38\\lib\\site-packages\\sklearn\\metrics\\_classification.py:1344: UndefinedMetricWarning: Precision and F-score are ill-defined and being set to 0.0 in labels with no predicted samples. Use `zero_division` parameter to control this behavior.\n",
      "  _warn_prf(average, modifier, msg_start, len(result))\n",
      "c:\\users\\adith\\appdata\\local\\programs\\python\\python38\\lib\\site-packages\\sklearn\\metrics\\_classification.py:1344: UndefinedMetricWarning: Precision and F-score are ill-defined and being set to 0.0 in labels with no predicted samples. Use `zero_division` parameter to control this behavior.\n",
      "  _warn_prf(average, modifier, msg_start, len(result))\n",
      "c:\\users\\adith\\appdata\\local\\programs\\python\\python38\\lib\\site-packages\\sklearn\\metrics\\_classification.py:1344: UndefinedMetricWarning: Precision and F-score are ill-defined and being set to 0.0 in labels with no predicted samples. Use `zero_division` parameter to control this behavior.\n",
      "  _warn_prf(average, modifier, msg_start, len(result))\n"
     ]
    }
   ],
   "source": [
    "model = LogisticRegression(max_iter=1000)\n",
    "model.fit(train_vec, y_train)\n",
    "\n",
    "# Predicting on test data\n",
    "predict = model.predict(test_vec)\n",
    "\n",
    "# Evaluating the model\n",
    "print(\"Accuracy Score :\", accuracy_score(y_test, predict), end='\\n\\n')\n",
    "print(classification_report(y_true=y_test, y_pred=predict))"
   ]
  },
  {
   "cell_type": "code",
   "execution_count": 38,
   "id": "195aaf4e",
   "metadata": {},
   "outputs": [],
   "source": [
    "def predict_offensive(text):\n",
    "    processed_text = preprocess_text(text)\n",
    "    word_list = nltk.word_tokenize(processed_text)\n",
    "    vector = [g_model.wv[word] for word in word_list if word in g_model.wv]\n",
    "    if not vector:\n",
    "        print(\"Clean sentence.\")\n",
    "        return\n",
    "    vector_mean = sum(vector) / len(vector)\n",
    "    prediction = model.predict([vector_mean])\n",
    "    if prediction[0] == 1:\n",
    "        print(\"Hate speech or offensive language detected.\")\n",
    "    else:\n",
    "        print(\"Clean sentence.\")"
   ]
  },
  {
   "cell_type": "code",
   "execution_count": 40,
   "id": "59e8b3d2",
   "metadata": {},
   "outputs": [
    {
     "name": "stdout",
     "output_type": "stream",
     "text": [
      "Enter a sentence: good\n",
      "Clean sentence.\n"
     ]
    }
   ],
   "source": [
    "input_sentence = input(\"Enter a sentence: \")\n",
    "\n",
    "# Predict\n",
    "predict_offensive(input_sentence)"
   ]
  },
  {
   "cell_type": "code",
   "execution_count": 41,
   "id": "928c991e",
   "metadata": {},
   "outputs": [],
   "source": [
    "# def replace_negative_words(text):\n",
    "#     negative_keywords = extract_negative_keywords(text)\n",
    "#     positive_replacements = {'hate': 'love', 'terrible': 'excellent', 'negative_word_3': 'positive_word_3'}\n",
    "#     replaced_text = text\n",
    "#     for word in negative_keywords:\n",
    "#         if word in positive_replacements:\n",
    "#             replaced_text = replaced_text.replace(word, positive_replacements[word])\n",
    "#     return replaced_text"
   ]
  },
  {
   "cell_type": "code",
   "execution_count": 47,
   "id": "a4c353f8",
   "metadata": {},
   "outputs": [],
   "source": [
    "from rake_nltk import Rake"
   ]
  },
  {
   "cell_type": "code",
   "execution_count": 48,
   "id": "7e87639e",
   "metadata": {},
   "outputs": [],
   "source": [
    "# def extract_negative_keywords(text):\n",
    "#     r = Rake()\n",
    "#     r.extract_keywords_from_text(text)\n",
    "#     return r.get_ranked_phrases()"
   ]
  },
  {
   "cell_type": "code",
   "execution_count": 50,
   "id": "35e6b5c9",
   "metadata": {},
   "outputs": [],
   "source": [
    "def predict_offensive_2(text):\n",
    "    processed_text = preprocess_text(text)\n",
    "    word_list = nltk.word_tokenize(processed_text)\n",
    "    vector = [g_model.wv[word] for word in word_list if word in g_model.wv]\n",
    "    if not vector:\n",
    "        print(\"Clean sentence.\")\n",
    "        return\n",
    "    vector_mean = sum(vector) / len(vector)\n",
    "    prediction = model.predict([vector_mean])\n",
    "    if prediction[0] == 1:\n",
    "        print(\"Hate speech or offensive language detected.\")\n",
    "        replaced_text = replace_negative_words(text)\n",
    "        print(\"Replaced sentence:\", replaced_text)\n",
    "    else:\n",
    "        print(\"Clean sentence.\")"
   ]
  },
  {
   "cell_type": "code",
   "execution_count": 55,
   "id": "e7f883ea",
   "metadata": {},
   "outputs": [
    {
     "name": "stdout",
     "output_type": "stream",
     "text": [
      "Enter a sentence: i hate you nigga\n"
     ]
    }
   ],
   "source": [
    "input_sentence = input(\"Enter a sentence: \")"
   ]
  },
  {
   "cell_type": "code",
   "execution_count": 56,
   "id": "a7242135",
   "metadata": {},
   "outputs": [
    {
     "name": "stdout",
     "output_type": "stream",
     "text": [
      "Hate speech or offensive language detected.\n",
      "Replaced sentence: i love you nigga\n"
     ]
    }
   ],
   "source": [
    "predict_offensive_2(input_sentence)"
   ]
  },
  {
   "cell_type": "code",
   "execution_count": 61,
   "id": "f88ca678",
   "metadata": {},
   "outputs": [
    {
     "name": "stderr",
     "output_type": "stream",
     "text": [
      "[nltk_data] Downloading package vader_lexicon to\n",
      "[nltk_data]     C:\\Users\\adith\\AppData\\Roaming\\nltk_data...\n"
     ]
    },
    {
     "data": {
      "text/plain": [
       "True"
      ]
     },
     "execution_count": 61,
     "metadata": {},
     "output_type": "execute_result"
    }
   ],
   "source": [
    "nltk.download('vader_lexicon')"
   ]
  },
  {
   "cell_type": "code",
   "execution_count": 62,
   "id": "94b39ea6",
   "metadata": {},
   "outputs": [],
   "source": [
    "from nltk.sentiment.vader import SentimentIntensityAnalyzer\n",
    "import random\n",
    "sia = SentimentIntensityAnalyzer()"
   ]
  },
  {
   "cell_type": "code",
   "execution_count": 67,
   "id": "498ff0bd",
   "metadata": {},
   "outputs": [
    {
     "name": "stdout",
     "output_type": "stream",
     "text": [
      "Enter a sentence: i hate you bitch die\n"
     ]
    }
   ],
   "source": [
    "def predict_offensive_3(text):\n",
    "    processed_text = preprocess_text(text)\n",
    "    word_list = nltk.word_tokenize(processed_text)\n",
    "    vector = [g_model.wv[word] for word in word_list if word in g_model.wv]\n",
    "    if not vector:\n",
    "        print(\"Clean sentence.\")\n",
    "        return\n",
    "    vector_mean = sum(vector) / len(vector)\n",
    "    prediction = model.predict([vector_mean])\n",
    "    if prediction[0] == 1:\n",
    "        print(\"Hate speech or offensive language detected.\")\n",
    "        replaced_text = replace_negative_words(text)\n",
    "        print(\"Replaced sentence:\", replaced_text)\n",
    "    else:\n",
    "        print(\"Clean sentence.\")\n",
    "\n",
    "# Function to replace negative words with positive ones\n",
    "def replace_negative_words(text):\n",
    "    word_list = nltk.word_tokenize(text)\n",
    "    replaced_text = text\n",
    "    for i, word in enumerate(word_list):\n",
    "        if is_negative_word(word):\n",
    "            positive_word = get_random_positive_word()\n",
    "            replaced_text = replaced_text.replace(word, positive_word, 1)  # Replace only the first occurrence\n",
    "    return replaced_text\n",
    "\n",
    "# Function to check if a word is negative using VADER sentiment analysis\n",
    "def is_negative_word(word):\n",
    "    # Use VADER to get the sentiment score of the word\n",
    "    compound_score = sia.polarity_scores(word)['compound']\n",
    "    return compound_score < 0  # Negative compound score indicates negative sentiment\n",
    "\n",
    "# Function to get a random positive word\n",
    "def get_random_positive_word():\n",
    "    positive_words = ['love', 'excellent', 'amazing', 'joyful', 'wonderful']  # Add more positive words if needed\n",
    "    return random.choice(positive_words)\n",
    "\n",
    "# Take input sentence\n",
    "input_sentence = input(\"Enter a sentence: \")"
   ]
  },
  {
   "cell_type": "code",
   "execution_count": 68,
   "id": "e40f02d9",
   "metadata": {},
   "outputs": [
    {
     "name": "stdout",
     "output_type": "stream",
     "text": [
      "Hate speech or offensive language detected.\n",
      "Replaced sentence: i amazing you love wonderful\n"
     ]
    }
   ],
   "source": [
    "predict_offensive_3(input_sentence)"
   ]
  },
  {
   "cell_type": "code",
   "execution_count": null,
   "id": "6b740697",
   "metadata": {},
   "outputs": [],
   "source": []
  }
 ],
 "metadata": {
  "kernelspec": {
   "display_name": "Python 3 (ipykernel)",
   "language": "python",
   "name": "python3"
  },
  "language_info": {
   "codemirror_mode": {
    "name": "ipython",
    "version": 3
   },
   "file_extension": ".py",
   "mimetype": "text/x-python",
   "name": "python",
   "nbconvert_exporter": "python",
   "pygments_lexer": "ipython3",
   "version": "3.8.10"
  }
 },
 "nbformat": 4,
 "nbformat_minor": 5
}
